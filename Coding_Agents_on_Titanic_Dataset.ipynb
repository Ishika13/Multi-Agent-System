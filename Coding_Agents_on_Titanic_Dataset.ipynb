{
  "cells": [
    {
      "cell_type": "code",
      "execution_count": null,
      "id": "0b37694f-333a-46fe-9497-20ae82d5b200",
      "metadata": {
        "id": "0b37694f-333a-46fe-9497-20ae82d5b200"
      },
      "outputs": [],
      "source": [
        "# Importing dataset and libraries\n",
        "\n",
        "import pandas as pd\n",
        "\n",
        "df = pd.read_csv(\"data_titanic.csv\")\n",
        "df.head(3)"
      ]
    },
    {
      "cell_type": "code",
      "execution_count": null,
      "id": "386aa86f-dbc4-43ee-98c6-3f93e817ca2e",
      "metadata": {
        "id": "386aa86f-dbc4-43ee-98c6-3f93e817ca2e"
      },
      "outputs": [],
      "source": [
        "print(\"How many people died? -->\", len(df[df[\"Survived\"]==0]))"
      ]
    },
    {
      "cell_type": "code",
      "execution_count": null,
      "id": "016f6191-755e-483d-aa92-d7cd2cd3146b",
      "metadata": {
        "id": "016f6191-755e-483d-aa92-d7cd2cd3146b"
      },
      "outputs": [],
      "source": [
        "# Setting up the LLM\n",
        "\n",
        "!pip install langchain_community\n",
        "from langchain_community.llms import Ollama #0.2.12\n",
        "\n",
        "llm = Ollama(model=\"llama3.1\")\n",
        "\n",
        "result = llm.invoke(input=['''Do you know the Titanic dataset? If yes, tell me how many people died.''']).split(\"\\n\")[0]\n",
        "print(result)"
      ]
    },
    {
      "cell_type": "code",
      "execution_count": null,
      "id": "726cf893-7605-443c-8d75-11c9e2e19fa2",
      "metadata": {
        "id": "726cf893-7605-443c-8d75-11c9e2e19fa2"
      },
      "outputs": [],
      "source": [
        "# Connecting DB\n",
        "\n",
        "import sqlite3\n",
        "df.to_sql(index=False, name=\"dataset\", con=sqlite3.connect(\"database.db\"), if_exists=\"replace\")"
      ]
    },
    {
      "cell_type": "code",
      "execution_count": null,
      "id": "3864c620-cc56-41df-8129-dc97c56f0d46",
      "metadata": {
        "id": "3864c620-cc56-41df-8129-dc97c56f0d46"
      },
      "outputs": [],
      "source": [
        "from langchain_community.utilities.sql_database import SQLDatabase\n",
        "\n",
        "db = SQLDatabase.from_uri(\"sqlite:///database.db\")\n",
        "db"
      ]
    },
    {
      "cell_type": "code",
      "execution_count": null,
      "id": "083d3f5f-5c4d-4187-b6ff-63d4e91594a9",
      "metadata": {
        "id": "083d3f5f-5c4d-4187-b6ff-63d4e91594a9"
      },
      "outputs": [],
      "source": [
        "# Creating an agent to check out the SQL Commands\n",
        "\n",
        "!pip install crewai_tools\n",
        "\n",
        "from crewai_tools import tool #0.8.3\n",
        "from langchain_community.tools.sql_database.tool import ListSQLDatabaseTool, InfoSQLDatabaseTool, QuerySQLDataBaseTool\n",
        "\n",
        "@tool(\"table\")\n",
        "def table() -> str:\n",
        "    \"\"\"Get all the tables in the database\"\"\"\n",
        "    return ListSQLDatabaseTool(db = db).invoke(\"\")\n",
        "\n",
        "@tool(\"tool_schema\")\n",
        "def tool_schema(tables: str) -> str:\n",
        "    \"\"\"Get the table schema. Example Input: t1, t2, t3\"\"\"\n",
        "    tool = InfoSQLDatabaseTool(db = db)\n",
        "    return tool.invoke(tables)\n",
        "\n",
        "@tool(\"tool_query\")\n",
        "def tool_query(sql: str) -> str:\n",
        "    \"\"\"Run a SQL query\"\"\"\n",
        "    return QuerySQLDataBaseTool(db = db).invoke(sql)\n",
        "\n",
        "print(\"Get Tables\")\n",
        "print(table.run())\n",
        "\n",
        "print(\"\\nGet Schema\")\n",
        "print(tool_schema.run(tables = table.run()))\n",
        "\n",
        "print(\"\\nSQL Query\")\n",
        "print(tool_query.run(f\"SELECT*FROM {table.run()} LIMIT 3\"))"
      ]
    },
    {
      "cell_type": "code",
      "execution_count": null,
      "id": "6a161d84-0238-4350-94fe-897def79d4e5",
      "metadata": {
        "id": "6a161d84-0238-4350-94fe-897def79d4e5"
      },
      "outputs": [],
      "source": [
        "!pip install langchain_community\n",
        "\n",
        "# Checking SQL with LLM\n",
        "\n",
        "from langchain_community.tools.sql_database.tool import QuerySQLCheckerTool\n",
        "\n",
        "@tool(\"tool_check\")\n",
        "def tool_check(sql: str) -> str:\n",
        "    \"\"\"\n",
        "    Before executing a query, use this tool to review the SQL query.\n",
        "    \"\"\"\n",
        "    return QuerySQLCheckerTool(db = db, llm = llm).invoke({\"query\":sql})\n",
        "\n",
        "tool_check.run(f\"SELECT*FROM {tool_tables.run()} LIMIT 3 +db+\")"
      ]
    },
    {
      "cell_type": "code",
      "execution_count": null,
      "id": "835bf37b-146a-49d9-989b-09802a8e4aff",
      "metadata": {
        "id": "835bf37b-146a-49d9-989b-09802a8e4aff"
      },
      "outputs": [],
      "source": [
        "!pip install crewai\n",
        "import crewai #0.51.1\n",
        "\n",
        "prompt = '''Extract data with an SQL query to answer {user_input}'''\n",
        "\n",
        "# Defining Agent\n",
        "agent_sql = crewai.Agent(\n",
        "    role=\"Database Engineer\",\n",
        "    goal=prompt,\n",
        "    backstory='''\n",
        "        You are an experienced database engineer that creates and optimize efficient SQL queries.\n",
        "        Use `tables` to find tables.\n",
        "        Use `tool_schema` to get the metadata for the tables.\n",
        "        Use `tool_check` to review your queries before executing.\n",
        "        Use `tool_query` to execute SQL queries.\n",
        "     ''',\n",
        "    tools=[tables, tool_schema, tool_query, tool_check],\n",
        "    max_iterations = 10,\n",
        "    llm = llm,\n",
        "    allow_delegation = False, verbose = True)\n",
        "\n",
        "# Defining Task\n",
        "task_sql = crewai.Task(\n",
        "    description = prompt,\n",
        "    agent = agent_sql,\n",
        "    expected_output = '''Output of the query''')"
      ]
    },
    {
      "cell_type": "code",
      "execution_count": null,
      "id": "46ffdb71-2c82-4db1-9ec1-14579fe4804c",
      "metadata": {
        "id": "46ffdb71-2c82-4db1-9ec1-14579fe4804c"
      },
      "outputs": [],
      "source": [
        "# Creating an agent for Python\n",
        "\n",
        "!pip install langchain_experimental\n",
        "!pip install langchain_core\n",
        "from langchain_experimental.utilities import PythonREPL\n",
        "from langchain_core.tools import Tool\n",
        "\n",
        "tool_pycode = Tool(name=\"tool_pycode\",\n",
        "    description='''\n",
        "    A Python shell. Use this to execute python commands. Input should be a valid python command.\n",
        "    If you want to see the output of a value, you should print it out with `print(...)`.\n",
        "    ''',\n",
        "    func=PythonREPL().run)\n",
        "\n",
        "print(tool_pycode.run(\"import numpy as np; print(np.sum([1,2]))\") )"
      ]
    },
    {
      "cell_type": "code",
      "execution_count": null,
      "id": "4ef82ed3-0fed-4325-9be5-7cbf33a7098b",
      "metadata": {
        "scrolled": true,
        "id": "4ef82ed3-0fed-4325-9be5-7cbf33a7098b"
      },
      "outputs": [],
      "source": [
        "## LLM Checking Python\n",
        "\n",
        "@tool(\"tool_eval\")\n",
        "def tool_eval(code: str) -> str:\n",
        "    \"\"\"\n",
        "    Before executing Python code, always use this tool to evaluate code and correct the code if necessary.\n",
        "    Example: `import numpy as np print(np.sum([1,2]))` would give an error,\n",
        "    so you must change it to `import numpy as np; print(np.sum([1,2]))`\n",
        "    \"\"\"\n",
        "    res = llm.invoke(input=[f'''review the following python code and correct it if you find errors.\n",
        "    You must return only the correct code: {code}''']).split(\"\\n\")[0]\n",
        "    return res\n",
        "\n",
        "print(tool_eval.run(\"import numpy as np\") )"
      ]
    },
    {
      "cell_type": "code",
      "execution_count": null,
      "id": "d9ff6ba2-9afa-4ede-b9be-c4fa467ecb6b",
      "metadata": {
        "id": "d9ff6ba2-9afa-4ede-b9be-c4fa467ecb6b"
      },
      "outputs": [],
      "source": [
        "prompt = '''You analyze the data received from the database engineer to answer {user_input}'''\n",
        "\n",
        "## Agent\n",
        "agent_py = crewai.Agent(\n",
        "    role=\"Data Analyst\",\n",
        "    goal=prompt,\n",
        "    backstory='''\n",
        "        You are an experienced data anlyst that analyzes datasets using Python.\n",
        "        You have attention to detail and always produce very clear and detailed results.\n",
        "        First generate Python code you need to analyze the data.\n",
        "        Then use the `tool_eval` to check your code.\n",
        "        Finally use `tool_pycode` to execute the code and return the output.\n",
        "    ''',\n",
        "    tools = [tool_eval, tool_pycode],\n",
        "    max_iterations = 10,\n",
        "    llm = llm,\n",
        "    allow_delegation = False, verbose = True)\n",
        "\n",
        "## Task\n",
        "task_py = crewai.Task(\n",
        "    description = prompt,\n",
        "    agent = agent_py,\n",
        "    context = [task_sql],\n",
        "    expected_output = '''Output of Python code''')"
      ]
    },
    {
      "cell_type": "code",
      "execution_count": null,
      "id": "5f30aa11-8544-4ad5-9bdd-173aac329f28",
      "metadata": {
        "id": "5f30aa11-8544-4ad5-9bdd-173aac329f28"
      },
      "outputs": [],
      "source": [
        "# Creating HTML Agent\n",
        "\n",
        "prompt = '''You write executive summary reports based on the work of the data analyst to answer {user_input}'''\n",
        "\n",
        "## Agent\n",
        "agent_html = crewai.Agent(\n",
        "    role = \"Web Developer\",\n",
        "    goal = prompt,\n",
        "    backstory = '''\n",
        "        You are an experienced web developer that writes beautiful reports using HTML and CSS.\n",
        "        You always summarize texts into bullet points containing the most important details.\n",
        "        At the end add an interactive button with JavaScript so the user can approve the report,\n",
        "        and if the user clicks the button, show a pop-up text.\n",
        "     ''',\n",
        "    max_iterations = 10,\n",
        "    llm = llm,\n",
        "    allow_delegation = False, verbose = True)\n",
        "\n",
        "## Task\n",
        "task_html = crewai.Task(\n",
        "    description = prompt,\n",
        "    agent = agent_html,\n",
        "    context = [task_py],\n",
        "    expected_output = '''HTML code''')"
      ]
    },
    {
      "cell_type": "code",
      "execution_count": null,
      "id": "f7b34afb-438d-4cef-b0f2-0df6583aa21f",
      "metadata": {
        "id": "f7b34afb-438d-4cef-b0f2-0df6583aa21f"
      },
      "outputs": [],
      "source": [
        "# Using multiple agents at once to check the difference in outputs\n",
        "\n",
        "crew = crewai.Crew(agents = [agent_sql, agent_py, agent_html],\n",
        "                   tasks = [task_sql, task_py, task_html],\n",
        "                   process = crewai.Process.sequential,\n",
        "                   verbose = True)\n",
        "\n",
        "res = crew.kickoff(inputs = {\"user_input\":\"how many people died?\"})\n",
        "\n",
        "print(\"\\nResult\\n\", res)"
      ]
    }
  ],
  "metadata": {
    "kernelspec": {
      "display_name": "Python 3 (ipykernel)",
      "language": "python",
      "name": "python3"
    },
    "language_info": {
      "codemirror_mode": {
        "name": "ipython",
        "version": 3
      },
      "file_extension": ".py",
      "mimetype": "text/x-python",
      "name": "python",
      "nbconvert_exporter": "python",
      "pygments_lexer": "ipython3",
      "version": "3.12.2"
    },
    "colab": {
      "provenance": []
    }
  },
  "nbformat": 4,
  "nbformat_minor": 5
}